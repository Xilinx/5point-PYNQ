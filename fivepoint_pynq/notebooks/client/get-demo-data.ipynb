{
 "cells": [
  {
   "cell_type": "markdown",
   "metadata": {},
   "source": [
    "# Retrieve the data to run the demo\n",
    "\n",
    "To run the client demo through the [client](./client.ipynb) notebook, you will have to follow these instructions.\n",
    "\n",
    "## 1 - Get the images\n",
    "\n",
    "Download the *grayscale odometry dataset* from the [KITTI Vision Benchmark Suite](http://www.cvlibs.net/datasets/kitti/). \n",
    "The dataset is available at the [odometry datasets](http://www.cvlibs.net/datasets/kitti/eval_odometry.php) page.\n",
    "\n",
    "Once the `data_odometry_gray.zip` archive is downloaded succesfully, extract the images from `dataset/sequences/00/image_0` in the [`data`](./data) folder located next to this notebook.\n",
    "\n",
    "## 2 - Get the pre-computed points\n",
    "\n",
    "Download now the pre-computed input points and trajectory from the original Xilinx Open Hardware project submission [repository](). In particular, you will want to download the files [pts.js](https://bitbucket.org/necst/xohw18_5points_public/src/master/final-demo/client/pts.js) and [traj.js](https://bitbucket.org/necst/xohw18_5points_public/src/master/final-demo/client/traj.js).\n",
    "You can download them by clicking the options button and then selecting \"open raw\". \n",
    "\n",
    "![open-raw](img/open-raw.png \"Open raw option display\")\n",
    "\n",
    "If you prefer, you can right-click on \"open raw\" and then select \"save link as...\" to download them directly.\n",
    "\n",
    "Save both `pts.js` and `traj.js` in the [`data`](./data) folder located next to this notebook."
   ]
  },
  {
   "cell_type": "markdown",
   "metadata": {},
   "source": [
    "Copyright (C) 2020 Xilinx, Inc"
   ]
  }
 ],
 "metadata": {
  "kernelspec": {
   "display_name": "Python 3",
   "language": "python",
   "name": "python3"
  },
  "language_info": {
   "codemirror_mode": {
    "name": "ipython",
    "version": 3
   },
   "file_extension": ".py",
   "mimetype": "text/x-python",
   "name": "python",
   "nbconvert_exporter": "python",
   "pygments_lexer": "ipython3",
   "version": "3.7.1"
  }
 },
 "nbformat": 4,
 "nbformat_minor": 2
}
