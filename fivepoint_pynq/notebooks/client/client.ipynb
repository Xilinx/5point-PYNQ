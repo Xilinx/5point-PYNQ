{
 "cells": [
  {
   "cell_type": "markdown",
   "metadata": {},
   "source": [
    "# 5-point Relative Pose Problem\n",
    "## Client\n",
    "This notebook provides the client-side of the **5-point relative pose problem** application. The purpose of this application is to identify the possible relative camera motions given five matching points from two calibrated views.\n",
    "\n",
    "This notebook will simply load a HTML page that will communicate through a websocket with the [server](../server/server.ipynb).\n",
    "\n",
    "The client demo uses data gathered from the [KITTI dataset](http://www.cvlibs.net/datasets/kitti/), particularly the *sequence 00*, of the [odometry dataset](http://www.cvlibs.net/datasets/kitti/eval_odometry.php), grayscale ([archive link](http://www.cvlibs.net/download.php?file=data_odometry_gray.zip)).\n",
    "For instructions on how to get the data to run this demo please refer to the [get-demo-data](./get-demo-data.ipynb) notebook.\n",
    "\n",
    "Please insert the websocket *address and port* in the text box and hit connect. Once ready, you can decide wether to run the algorithm on CPU or FPGA. You can also specify the number of RANSAC iterations from the dropdown menu (a higher number means higher accuracy at the cost of longer execution time, *default 2000*)\n",
    "\n",
    "Refer to the [introduction notebook](../introduction.ipynb) for further info on the project and the available notebooks."
   ]
  },
  {
   "cell_type": "code",
   "execution_count": null,
   "metadata": {},
   "outputs": [],
   "source": [
    "from IPython.core.display import display, HTML\n",
    "display(HTML(\"<style>.container { width:100% !important; }</style>\"))\n",
    "display(HTML(filename='demo.html'))"
   ]
  },
  {
   "cell_type": "markdown",
   "metadata": {},
   "source": [
    "Copyright (C) 2020 Xilinx, Inc"
   ]
  }
 ],
 "metadata": {
  "kernelspec": {
   "display_name": "Python 3",
   "language": "python",
   "name": "python3"
  },
  "language_info": {
   "codemirror_mode": {
    "name": "ipython",
    "version": 3
   },
   "file_extension": ".py",
   "mimetype": "text/x-python",
   "name": "python",
   "nbconvert_exporter": "python",
   "pygments_lexer": "ipython3",
   "version": "3.7.1"
  }
 },
 "nbformat": 4,
 "nbformat_minor": 2
}
