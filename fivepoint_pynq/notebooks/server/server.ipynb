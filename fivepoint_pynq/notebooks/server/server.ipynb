{
 "cells": [
  {
   "cell_type": "markdown",
   "metadata": {},
   "source": [
    "# 5-point Relative Pose Problem\n",
    "## Server\n",
    "This notebook provides the server-side of the **5-point relative pose** application. The purpose of this application is to identify the possible relative camera motions given five matching points from two calibrated views. \n",
    "The image below provides a visualization of such problem.\n",
    "\n",
    "![5-point_relpose](img/5-point_relpose.png \"5-point Relative Pose Problem\")\n",
    "\n",
    "Refer to the [introduction notebook](../introduction.ipynb) for further info on the project and the available notebooks."
   ]
  },
  {
   "cell_type": "markdown",
   "metadata": {},
   "source": [
    "### Constants definition\n",
    "First, we need to define some global variables that specify parameters of the accelerator."
   ]
  },
  {
   "cell_type": "code",
   "execution_count": null,
   "metadata": {},
   "outputs": [],
   "source": [
    "_max_input_points = 1024\n",
    "_num_random_numbers = 1000000\n",
    "_rand_max = 2147483647 # from stdlib.h\n",
    "_max_ransac_iter = 1024*16\n",
    "_points_per_iter = 5\n",
    "_extra_ransac_points = 3\n",
    "_total_points_per_iter = _points_per_iter + _extra_ransac_points\n",
    "_nister_fpga_max_out_shape = (_max_ransac_iter,10,10)\n",
    "_nister_fgpa_max_in_shape = (_max_ransac_iter,_points_per_iter,2)"
   ]
  },
  {
   "cell_type": "markdown",
   "metadata": {},
   "source": [
    "### Download Overlay and Buffers Instantiation\n",
    "We can now import `pynq`, download the overlay, and assign the 5-point kernel IP to a variable called `fivept_nister`, that we will use later on. We also allocate the required input and output buffers using the `pynq.allocate`."
   ]
  },
  {
   "cell_type": "code",
   "execution_count": null,
   "metadata": {},
   "outputs": [],
   "source": [
    "import pynq\n",
    "import numpy as np\n",
    "\n",
    "ol = pynq.Overlay(\"5point_nister.xclbin\")\n",
    "fivept_nister = ol.fivept_nister_1\n",
    "\n",
    "input_a = pynq.allocate(_nister_fgpa_max_in_shape, dtype=np.float32)\n",
    "input_b = pynq.allocate(_nister_fgpa_max_in_shape, dtype=np.float32)\n",
    "out_buff = pynq.allocate(_nister_fpga_max_out_shape, dtype=np.float32)"
   ]
  },
  {
   "cell_type": "markdown",
   "metadata": {},
   "source": [
    "### Points pre-processing and 5-point Nister software implementation\n",
    "\n",
    "The cell below defines the `gen_5_point_problems()` and `multi_nister_sw()` functions.\n",
    "\n",
    "The first function generates the 5-point problems that either the CPU or the FPGA are going to solve. It constructs two vectors of points randomly extracted from the two sources, according to the given number of problems. The original C++ implementation can be found [here](https://bitbucket.org/necst/xohw18_5points_public/src/master/final-demo/server/src/ransac.cpp#lines-11).\n",
    "\n",
    "The second function computes the 5-point [Nister's algorithm](https://ieeexplore.ieee.org/abstract/document/1288525) on the input points and produces a list of [essential matrices](https://en.wikipedia.org/wiki/Essential_matrix) as a result, using the CPU. The function relies on [OpenGV](https://laurentkneip.github.io/opengv/) and it's python bindings to perform the core computation. The original C++ implementation can be found [here](https://bitbucket.org/necst/xohw18_5points_public/src/master/final-demo/server/src/nister_sw.cpp).\n",
    "\n",
    "In both cases, we use numpy's features to obtain code that is both compact and fast."
   ]
  },
  {
   "cell_type": "code",
   "execution_count": null,
   "metadata": {},
   "outputs": [],
   "source": [
    "from fivepoint_pynq import pyopengv, ransac\n",
    "\n",
    "def gen_5_point_problems(p1_in, p2_in, n_points, p1_out, p2_out, n_problems,\n",
    "                         out_indices, rand_numbers, rand_offset):\n",
    "    if n_points < _total_points_per_iter:\n",
    "        raise Exception('ransac: required at least {} but only {} points provided'.format(_total_points_per_iter,\n",
    "                                                                                          n_points))\n",
    "    tmp_indices = np.arange(n_points)\n",
    "    j = np.tile(np.arange(_total_points_per_iter), n_problems)\n",
    "    rand_offsets = np.arange(rand_offset, rand_offset + n_problems*_total_points_per_iter) % rand_numbers.size\n",
    "    rand_positions = rand_numbers[rand_offsets] % (n_points - j) + j \n",
    "    p1_out[:_points_per_iter*n_problems] = \\\n",
    "        p1_in[rand_positions.reshape((n_problems,_total_points_per_iter))[:,:_points_per_iter].reshape(-1)]\n",
    "    p2_out[:_points_per_iter*n_problems] = \\\n",
    "        p2_in[rand_positions.reshape((n_problems,_total_points_per_iter))[:,:_points_per_iter].reshape(-1)]\n",
    "    out_indices[:n_problems*_total_points_per_iter] = tmp_indices[rand_positions]\n",
    "    return rand_offsets[-1]\n",
    "\n",
    "def multi_nister_sw(p1, p2, num_iter, essentials, essential_sizes):\n",
    "    b2 = np.empty((num_iter, _points_per_iter, 3))\n",
    "    b1 = np.empty((num_iter, _points_per_iter, 3))\n",
    "    b1[:,:,0:2] = p1[:num_iter*_points_per_iter].reshape((num_iter,_points_per_iter,2))\n",
    "    b1[:,:,2] = 1.0\n",
    "    b2[:,:,0:2] = p2[:num_iter*_points_per_iter].reshape((num_iter,_points_per_iter,2))\n",
    "    b2[:,:,2] = 1.0\n",
    "    b1[:,:] = b1[:] / np.linalg.norm(b1[:], axis=2).reshape(num_iter,_points_per_iter, 1)\n",
    "    b2[:,:] = b2[:] / np.linalg.norm(b2[:], axis=2).reshape(num_iter,_points_per_iter, 1)\n",
    "    for i in range(num_iter):\n",
    "        ess = pyopengv.relative_pose_fivept_nister(b1[i], b2[i])\n",
    "        len_ess = len(ess)\n",
    "        if len_ess > 0:\n",
    "            essentials[essential_sizes[i]:essential_sizes[i]+len_ess] = ess\n",
    "        essential_sizes[1 + i] = essential_sizes[i] + len_ess"
   ]
  },
  {
   "cell_type": "markdown",
   "metadata": {},
   "source": [
    "### 5-point Nister FPGA implementation\n",
    "We now define the `multi_nister_fpga()` function, that executes the 5-point Nister's algorithm on the FPGA. Notice the usual pattern of calls to execute an accelerator using PYNQ. First, we `sync_to_device()` the input buffers - after copying the input data from `p1` and `p2` - then we `call()` the accelerator and then we `sync_from_device()` the output buffer to retrieve the results, that we use to populate `essentials`.\n",
    "\n",
    "Remember that you can print `fivept_nister.signature` to retrieve the signature of the `call()` function.\n",
    "\n",
    "The original C++ implementation, that relies on OpenCL, can be found [here](https://bitbucket.org/necst/xohw18_5points_public/src/master/final-demo/server/src/nister_fpga.cpp)."
   ]
  },
  {
   "cell_type": "code",
   "execution_count": null,
   "metadata": {},
   "outputs": [],
   "source": [
    "def multi_nister_fpga(p1, p2, num_iter, essentials, essential_sizes, fivept_nister_krnl=fivept_nister, \n",
    "                      input_a=input_a, input_b=input_b, out_buff=out_buff):\n",
    "    threshold = np.float32(0.01)\n",
    "    input_a[:num_iter,:,:] = p1.reshape((-1,_points_per_iter,2))[:num_iter,:,:]\n",
    "    input_b[:num_iter,:,:] = p2.reshape((-1,_points_per_iter,2))[:num_iter,:,:]\n",
    "    input_a.sync_to_device()\n",
    "    input_b.sync_to_device()\n",
    "    fivept_nister_krnl.call(input_a, input_b, out_buff, num_iter, threshold)\n",
    "    out_buff.sync_from_device()\n",
    "    tmp_essentials = out_buff[:num_iter,:,:]\n",
    "    tmp_essentials_valid_count = np.cumsum(np.sum(tmp_essentials[:,:,0] > 0,axis=1))\n",
    "    # each essential_t matrix (a 3x3) is stored column-major. We use '[0,3,6,1,4,7,2,5,8]' to reorder to column-major.\n",
    "    tmp_essentials = tmp_essentials[tmp_essentials[:,:,0] > 0,1:10][:,[0,3,6,1,4,7,2,5,8]].reshape(-1,3,3)\n",
    "    essentials[:len(tmp_essentials)] = tmp_essentials[:]\n",
    "    essential_sizes[1:] = tmp_essentials_valid_count[:]"
   ]
  },
  {
   "cell_type": "markdown",
   "metadata": {},
   "source": [
    "### Server Handler\n",
    "\n",
    "The logic to run the server application is defined in the following cell. We use the [`websockets`](https://websockets.readthedocs.io/en/stable/intro.html) and [`asyncio`](https://docs.python.org/3/library/asyncio.html) python packages to communicate with the client. The server parses requests from the client and sends the responses in the `consumer_handler()` function.\n",
    "\n",
    "As we were not able to reimplement the `ransac()` function using Python (due to the limited python bindings offered by OpenGV, and most importantly because of the changes made in the original Xilinx Open Hardware project with respect to the original OpenGV RANSAC) we rely on [pybind11](https://github.com/pybind/pybind11) to expose python bindings for this function.\n",
    "\n",
    "The original C++ implementation of the `main()` function can be found [here](https://bitbucket.org/necst/xohw18_5points_public/src/master/final-demo/server/main.cpp), while the `ransac()` implementation can be found [here](https://bitbucket.org/necst/xohw18_5points_public/src/master/final-demo/server/src/ransac.cpp#lines-261)."
   ]
  },
  {
   "cell_type": "code",
   "execution_count": null,
   "metadata": {},
   "outputs": [],
   "source": [
    "import asyncio\n",
    "import websockets\n",
    "import time \n",
    "\n",
    "np.set_printoptions(precision=16)\n",
    "        \n",
    "async def consumer_handler(websocket, message, p1, p2, p1_ransac, p2_ransac, indices,\n",
    "                           random_numbers, rand_offset):\n",
    "    msg = message.split()\n",
    "\n",
    "    # read input message\n",
    "    message_id = msg[0]\n",
    "    n_points = int(msg[1])\n",
    "    print('number of points: {}'.format(n_points))\n",
    "    if n_points > _max_input_points:\n",
    "        raise valueError('number of input points ({}) exceeds the maximum allowed ({})'.format(\n",
    "            n_points, _max_input_points))\n",
    "    elif n_points == 0:\n",
    "        raise ValueError('number of input points is 0')\n",
    "    algorithm_num = int(msg[2])\n",
    "    print('algorithm: {}'.format(algorithm_num))\n",
    "    if algorithm_num not in [0,1]:\n",
    "        raise ValueError('invalid 5-point algorithm')\n",
    "    num_ransac_iter = int(msg[3])\n",
    "    print('RANSAC iterations: {}'.format(num_ransac_iter))\n",
    "    if num_ransac_iter > _max_ransac_iter:\n",
    "        raise ValueError('number of ransac iterations ({}) exceeds the maximum allowed ({})'.format(\n",
    "            num_ransac_iter, _max_ransac_iter))\n",
    "    ransac_threshold = float(msg[4])\n",
    "    msg_idx = 5\n",
    "    p1.reshape(-1)[:n_points*2] = [*map(float, msg[msg_idx:msg_idx + n_points*2])]\n",
    "    p2.reshape(-1)[:n_points*2] = [*map(float, msg[msg_idx + n_points*2:msg_idx + n_points*2*2])]\n",
    "    transformation = np.empty((3,4))\n",
    "    essentials = np.zeros((num_ransac_iter*10, 3, 3))\n",
    "    essential_sizes = np.zeros(num_ransac_iter+1, dtype=np.uint32)\n",
    "\n",
    "    # generate 5-point problems to solve\n",
    "    start = time.process_time()\n",
    "    rand_offset = gen_5_point_problems(p1, p2, n_points, p1_ransac, p2_ransac, num_ransac_iter, \n",
    "                                       indices, random_numbers, rand_offset)\n",
    "    generation_time = time.process_time() - start\n",
    "\n",
    "    # solve 5-point problem using either CPU or FPGA\n",
    "    ## 1 - retrieve essential matrices\n",
    "    if algorithm_num == 0: # Software execution\n",
    "        multi_nister_sw(p1_ransac, p2_ransac, num_ransac_iter, essentials,\n",
    "                        essential_sizes)\n",
    "    elif algorithm_num == 1: # FPGA execution\n",
    "        multi_nister_fpga(p1_ransac, p2_ransac, num_ransac_iter, essentials, \n",
    "                          essential_sizes)\n",
    "    essentials_time = time.process_time() - generation_time - start\n",
    "    ## 2 - estimate the best transformation\n",
    "    quality = ransac(essentials, essential_sizes, num_ransac_iter, indices, \n",
    "                     p1, p2, n_points, transformation, ransac_threshold)\n",
    "    recovery_time = time.process_time() - essentials_time - generation_time - start\n",
    "\n",
    "    # send output message with results\n",
    "    out_msg = message_id + ' '\n",
    "    out_msg += ' '.join(map(str, transformation[:,:3].flatten())) + ' '\n",
    "    out_msg += ' '.join(map(str, transformation[:,3])) + ' '\n",
    "    out_msg += '{} {} {} {}\\n'.format(recovery_time, essentials_time, generation_time, quality)\n",
    "    await websocket.send(out_msg)\n",
    "    print('best transformation recovery time: {}'.format(recovery_time))\n",
    "    print('essentials computation time: {}'.format(essentials_time))\n",
    "    print('ransac generation time: {}'.format(generation_time))\n",
    "\n",
    "async def server(websocket, path):\n",
    "    print(\"connection established...\")\n",
    "    msg_queue = asyncio.Queue()\n",
    "\n",
    "    # Allocate required arrays and variables\n",
    "    p1 = np.empty((_max_input_points, 2), dtype=np.float32)\n",
    "    p2 = np.empty((_max_input_points, 2), dtype=np.float32)\n",
    "    p1_ransac = np.empty((_max_ransac_iter*_points_per_iter, 2), dtype=np.float32)\n",
    "    p2_ransac = np.empty((_max_ransac_iter*_points_per_iter, 2), dtype=np.float32)\n",
    "    indices = np.empty(_max_ransac_iter*_total_points_per_iter, dtype=np.uint32)\n",
    "    random_numbers = np.random.randint(0, _rand_max, _num_random_numbers)\n",
    "    rand_offset = 0\n",
    "\n",
    "    print('ready...')\n",
    "    await websocket.send('READY')\n",
    "    # Start execution\n",
    "    async for message in websocket:\n",
    "        await consumer_handler(websocket, message, p1, p2, p1_ransac, p2_ransac, \n",
    "                               indices, random_numbers, rand_offset)\n",
    "    print('terminating...')"
   ]
  },
  {
   "cell_type": "markdown",
   "metadata": {},
   "source": [
    "### Run the Server\n",
    "We can now run the server and make it listen for requests on `ws://localhost:8080`. Remember that you will need to manually interrupt the kernel to stop the server execution. Change `host` address and `port` appropriately in case you want to enable remote access to the websocket."
   ]
  },
  {
   "cell_type": "code",
   "execution_count": null,
   "metadata": {
    "scrolled": true
   },
   "outputs": [],
   "source": [
    "import nest_asyncio\n",
    "\n",
    "ws_server = websockets.serve(server, host='localhost', port=8080, ping_timeout=60, close_timeout=30)\n",
    "loop = asyncio.get_event_loop()\n",
    "nest_asyncio.apply(loop=loop)\n",
    "loop.run_until_complete(ws_server)\n",
    "loop.run_forever()"
   ]
  },
  {
   "cell_type": "markdown",
   "metadata": {},
   "source": [
    "### Close Websocket\n",
    "In case needed, stop the execution of the cell above and `close()` the websocket to free up the used port so you can launch the server again if you need to perform some modifications. Otherwise, you will have to restart the IPython kernel."
   ]
  },
  {
   "cell_type": "code",
   "execution_count": null,
   "metadata": {},
   "outputs": [],
   "source": [
    "ws_server.ws_server.close()"
   ]
  },
  {
   "cell_type": "markdown",
   "metadata": {},
   "source": [
    "### Clean FPGA resources\n",
    "\n",
    "When done, you can free the FPGA resources by shutting down this notebook or executing the following cell"
   ]
  },
  {
   "cell_type": "code",
   "execution_count": null,
   "metadata": {},
   "outputs": [],
   "source": [
    "del input_a\n",
    "del input_b\n",
    "del out_buff\n",
    "ol.free()"
   ]
  },
  {
   "cell_type": "markdown",
   "metadata": {},
   "source": [
    "Copyright (C) 2020 Xilinx, Inc"
   ]
  }
 ],
 "metadata": {
  "kernelspec": {
   "display_name": "Python 3",
   "language": "python",
   "name": "python3"
  },
  "language_info": {
   "codemirror_mode": {
    "name": "ipython",
    "version": 3
   },
   "file_extension": ".py",
   "mimetype": "text/x-python",
   "name": "python",
   "nbconvert_exporter": "python",
   "pygments_lexer": "ipython3",
   "version": "3.7.1"
  }
 },
 "nbformat": 4,
 "nbformat_minor": 2
}
